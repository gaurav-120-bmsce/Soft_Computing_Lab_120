{
  "nbformat": 4,
  "nbformat_minor": 0,
  "metadata": {
    "colab": {
      "provenance": []
    },
    "kernelspec": {
      "name": "python3",
      "display_name": "Python 3"
    },
    "language_info": {
      "name": "python"
    }
  },
  "cells": [
    {
      "cell_type": "code",
      "execution_count": null,
      "metadata": {
        "colab": {
          "base_uri": "https://localhost:8080/"
        },
        "id": "_zCe6arGz1yq",
        "outputId": "3a98ee4a-5e3c-48a1-d787-ce7052fcfef9"
      },
      "outputs": [
        {
          "output_type": "stream",
          "name": "stdout",
          "text": [
            "Min-max composition result : \n",
            "[[0.7 0.5]\n",
            " [0.3 0.8]]\n"
          ]
        }
      ],
      "source": [
        "import numpy as np\n",
        "def min_max_composition(R,S):\n",
        "  m,n = R.shape\n",
        "  n2,p = S.shape\n",
        "  if n!=n2:\n",
        "    raise ValueError(\"Number of columns of R must match number of rows of S\")\n",
        "  result = np.zeros((m,p))\n",
        "  for i in range(m):\n",
        "    for j in range(p):\n",
        "      result[i,j] = np.max(np.minimum(R[i,:],S[:,j]))\n",
        "  return result\n",
        "R = np.array([[1,0,0.5],[0.2,0.8,0.1]])\n",
        "S = np.array([[0.7,0.4],[0.3,0.9],[0.5,0.6]])\n",
        "composition_matrix = min_max_composition(R,S)\n",
        "print(\"Min-max composition result : \")\n",
        "print(composition_matrix)"
      ]
    }
  ]
}