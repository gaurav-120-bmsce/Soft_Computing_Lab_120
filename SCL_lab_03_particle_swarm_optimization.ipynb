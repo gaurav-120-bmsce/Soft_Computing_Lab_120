{
  "nbformat": 4,
  "nbformat_minor": 0,
  "metadata": {
    "colab": {
      "provenance": []
    },
    "kernelspec": {
      "name": "python3",
      "display_name": "Python 3"
    },
    "language_info": {
      "name": "python"
    }
  },
  "cells": [
    {
      "cell_type": "code",
      "execution_count": null,
      "metadata": {
        "colab": {
          "base_uri": "https://localhost:8080/"
        },
        "id": "dFyjIS7v7TW5",
        "outputId": "691c1bfc-a881-4b15-9910-91bf6fddad4e"
      },
      "outputs": [
        {
          "output_type": "stream",
          "name": "stdout",
          "text": [
            "([-1.0000000076595112, -0.999999987220884, -1.0000000017209685], -1.0000000076595112)\n"
          ]
        }
      ],
      "source": [
        "# Particle Swarm Optimization\n",
        "import sympy as sp\n",
        "from numpy import random\n",
        "x = sp.symbols('x')\n",
        "class PSO:\n",
        "  def __init__(self,inertia_weight,cog_coeff,social_coeff,pos,velocity,function):\n",
        "    self.inertia_weight = inertia_weight\n",
        "    self.cog_coeff = cog_coeff\n",
        "    self.social_coeff = social_coeff\n",
        "    self.pos = pos\n",
        "    self.velocity = velocity\n",
        "    self.function = function\n",
        "  def optimize(self):\n",
        "    pbest = self.pos.copy()\n",
        "    gbest = min(self.pos, key=lambda p: self.function.subs(x, p))\n",
        "    for _ in range(0,100):\n",
        "      fitness = [self.function.subs(x,self.pos[j]) for j in range(len(self.pos))]\n",
        "      for k in range(len(self.pos)):\n",
        "        if(self.function.subs(x, self.pos[k]) < self.function.subs(x, pbest[k])):\n",
        "          pbest[k] = self.pos[k]\n",
        "      for k in range(len(self.pos)):\n",
        "        if(self.function.subs(x, pbest[k]) < self.function.subs(x, gbest)):\n",
        "          gbest = pbest[k]\n",
        "      self.updateVelocity(gbest,pbest)\n",
        "      self.updatePosition()\n",
        "    return (pbest,gbest)\n",
        "  def updateVelocity(self,gbest,pbest):\n",
        "    self.velocity = [self.inertia_weight*self.velocity[i]+self.cog_coeff*(random.rand())*(pbest[i]-self.pos[i])+self.social_coeff*(random.rand())*(gbest-self.pos[i]) for i in range(0,len(self.velocity))]\n",
        "  def updatePosition(self):\n",
        "    self.pos = [self.pos[i]+self.velocity[i] for i in range(0,len(self.pos))]\n",
        "f = x**2 + 2*x + 1\n",
        "pso = PSO(0.5,1.5,1.5,[2,-2,1],[0.5,-0.3,0.1],f)\n",
        "print(pso.optimize())"
      ]
    }
  ]
}